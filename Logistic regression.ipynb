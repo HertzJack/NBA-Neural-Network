{
  "cells": [
    {
      "cell_type": "code",
      "execution_count": null,
      "metadata": {
        "colab": {
          "base_uri": "https://localhost:8080/"
        },
        "id": "Yt4uxEyL0yht",
        "outputId": "9dd110ac-1cea-45ac-a92b-023f560c8283"
      },
      "outputs": [
        {
          "name": "stdout",
          "output_type": "stream",
          "text": [
            "Requirement already satisfied: nba_api in /opt/anaconda3/lib/python3.12/site-packages (1.9.0)\n",
            "Requirement already satisfied: numpy>=1.26.0 in /opt/anaconda3/lib/python3.12/site-packages (from nba_api) (1.26.4)\n",
            "Requirement already satisfied: pandas>=2.2.0 in /opt/anaconda3/lib/python3.12/site-packages (from nba_api) (2.2.2)\n",
            "Requirement already satisfied: requests<3.0.0,>=2.32.3 in /opt/anaconda3/lib/python3.12/site-packages (from nba_api) (2.32.3)\n",
            "Requirement already satisfied: python-dateutil>=2.8.2 in /opt/anaconda3/lib/python3.12/site-packages (from pandas>=2.2.0->nba_api) (2.9.0.post0)\n",
            "Requirement already satisfied: pytz>=2020.1 in /opt/anaconda3/lib/python3.12/site-packages (from pandas>=2.2.0->nba_api) (2024.1)\n",
            "Requirement already satisfied: tzdata>=2022.7 in /opt/anaconda3/lib/python3.12/site-packages (from pandas>=2.2.0->nba_api) (2023.3)\n",
            "Requirement already satisfied: charset-normalizer<4,>=2 in /opt/anaconda3/lib/python3.12/site-packages (from requests<3.0.0,>=2.32.3->nba_api) (3.3.2)\n",
            "Requirement already satisfied: idna<4,>=2.5 in /opt/anaconda3/lib/python3.12/site-packages (from requests<3.0.0,>=2.32.3->nba_api) (3.7)\n",
            "Requirement already satisfied: urllib3<3,>=1.21.1 in /opt/anaconda3/lib/python3.12/site-packages (from requests<3.0.0,>=2.32.3->nba_api) (2.2.3)\n",
            "Requirement already satisfied: certifi>=2017.4.17 in /opt/anaconda3/lib/python3.12/site-packages (from requests<3.0.0,>=2.32.3->nba_api) (2024.12.14)\n",
            "Requirement already satisfied: six>=1.5 in /opt/anaconda3/lib/python3.12/site-packages (from python-dateutil>=2.8.2->pandas>=2.2.0->nba_api) (1.16.0)\n"
          ]
        }
      ],
      "source": [
        "!pip install nba_api"
      ]
    },
    {
      "cell_type": "code",
      "execution_count": null,
      "metadata": {
        "id": "r9E4vWA14ptM"
      },
      "outputs": [],
      "source": [
        "import pandas as pd\n",
        "from nba_api.stats.endpoints import leaguegamefinder, leaguedashteamstats\n",
        "from nba_api.stats.static import teams\n",
        "from sklearn.linear_model import LogisticRegression\n",
        "from sklearn.preprocessing import StandardScaler\n",
        "from sklearn.pipeline import Pipeline\n",
        "from sklearn.model_selection import GridSearchCV\n",
        "from sklearn.metrics import roc_curve, auc\n",
        "import matplotlib.pyplot as plt"
      ]
    },
    {
      "cell_type": "code",
      "execution_count": null,
      "metadata": {
        "id": "x-JjZW_SkFLv"
      },
      "outputs": [],
      "source": [
        "class Season:\n",
        "    def __init__(self, start_year: str):\n",
        "        self.start_year = start_year\n",
        "    def formatted_season(self):\n",
        "        return f\"{self.start_year}-{int(self.start_year[2:]) + 1:02d}\"\n",
        "\n",
        "def convertWLto01(wl: str) -> int:\n",
        "    return 1 if wl == \"W\" else 0\n",
        "\n",
        "def get_id_by_abbreviation(abbr: str) -> int:\n",
        "    return teams.find_team_by_abbreviation(abbreviation=abbr)[\"id\"]\n",
        "\n",
        "\n",
        "def fetch_per_game_data(season: Season) -> pd.DataFrame:\n",
        "    # Pull raw game logs from NBA API\n",
        "    finder = leaguegamefinder.LeagueGameFinder(\n",
        "        league_id_nullable   = \"00\",\n",
        "        season_nullable      = season.formatted_season(),\n",
        "        season_type_nullable = \"Regular Season\"\n",
        "    )\n",
        "    df = finder.get_data_frames()[0]\n",
        "\n",
        "    # Keep only needed columns and compute readily available features\n",
        "    df = df[[\"GAME_ID\",\"GAME_DATE\",\"TEAM_ID\",\"MATCHUP\",\"WL\"]].copy()\n",
        "    df = df.rename(columns={\"WL\":\"WL_str\"})\n",
        "    df[\"WIN\"]  = df[\"WL_str\"].map(convertWLto01)\n",
        "    df[\"HOME\"] = (~df[\"MATCHUP\"].str.contains(\"@\")).astype(int)\n",
        "    df[\"GAME_DATE\"] = pd.to_datetime(df[\"GAME_DATE\"])    \n",
        "\n",
        "    # Parse opponent abbreviation from MATCHUP and map to numeric ID\n",
        "    opp_abbr = df[\"MATCHUP\"].str.split(\" \").str[2]\n",
        "    df[\"OPPONENT_ID\"] = opp_abbr.map(get_id_by_abbreviation)\n",
        "    return df\n",
        "\n",
        "\n",
        "def build_features(df: pd.DataFrame) -> pd.DataFrame:\n",
        "    # Sort by team and date, reset index\n",
        "    df = df.sort_values([\"TEAM_ID\",\"GAME_DATE\"]).reset_index(drop=True)\n",
        "    # Compute each team’s prior win% (excluding the current game)\n",
        "    df[\"PREV_W_PCT\"] = (\n",
        "        df.groupby(\"TEAM_ID\")[\"WIN\"]\n",
        "          .transform(lambda x: x.shift().expanding().mean())\n",
        "    )\n",
        "    # Drop rows where no prior win pct exists\n",
        "    df = df.dropna(subset=[\"PREV_W_PCT\"]).reset_index(drop=True)\n",
        "    # Merge in opponent's prior win pct\n",
        "    opp_pct = (\n",
        "        df[[\"GAME_ID\",\"TEAM_ID\",\"PREV_W_PCT\"]]\n",
        "          .rename(columns={\"TEAM_ID\":\"OPPONENT_ID\",\"PREV_W_PCT\":\"OPP_PREV_W_PCT\"})\n",
        "    )\n",
        "    df = df.merge(opp_pct, on=[\"GAME_ID\",\"OPPONENT_ID\"], how=\"left\")\n",
        "    return df.dropna(subset=[\"OPP_PREV_W_PCT\"])  \n",
        "\n",
        "ADDL_STATS = [\n",
        "    \"W_PCT\",\"FGA\",\"REB_RANK\",\"FG_PCT\",\"FG3_PCT\",\"FT_PCT\",\n",
        "    \"OREB\",\"DREB\",\"AST\",\"TOV\",\"STL\",\"PFD\",\"PLUS_MINUS\"\n",
        "]\n",
        "\n",
        "def generate_nn_labels(addl_stats: list[str]) -> list[str]:\n",
        "    team_cols = [f\"TEAM_{s}\" for s in addl_stats]\n",
        "    opp_cols  = [f\"OPPONENT_{s}\" for s in addl_stats]\n",
        "    return team_cols + opp_cols + [\"NUM_REST_DAYS\"]\n",
        "\n",
        "\n",
        "def prepare_dataset(season: Season, team_stats: pd.DataFrame, additional_columns: list[str]) -> pd.DataFrame:\n",
        "    # Fetch per-game data\n",
        "    games = fetch_per_game_data(season)\n",
        "    # Merge team-level stats for each additional column\n",
        "    for stat in additional_columns:\n",
        "        # Add team stat\n",
        "        games = games.merge(\n",
        "            team_stats[[\"TEAM_ID\", stat]].rename(columns={stat: f\"TEAM_{stat}\"}),\n",
        "            on=\"TEAM_ID\", how=\"left\"\n",
        "        )\n",
        "        # Add opponent stat\n",
        "        opp = team_stats[[\"TEAM_ID\", stat]].rename(\n",
        "            columns={\"TEAM_ID\":\"OPPONENT_ID\", stat: f\"OPPONENT_{stat}\"}\n",
        "        )\n",
        "        games = games.merge(opp, on=\"OPPONENT_ID\", how=\"left\")\n",
        "    return games\n",
        "\n",
        "\n",
        "def add_days_rest_column(season: Season, df: pd.DataFrame) -> pd.DataFrame:\n",
        "    # Compute days since last game per team\n",
        "    df = df.sort_values([\"TEAM_ID\",\"GAME_DATE\"]).reset_index(drop=True)\n",
        "    df[\"NUM_REST_DAYS\"] = (\n",
        "        df.groupby(\"TEAM_ID\")[\"GAME_DATE\"]\n",
        "          .transform(lambda x: x.diff().dt.days)\n",
        "    ).fillna(0)\n",
        "    return df"
      ]
    },
    {
      "cell_type": "code",
      "execution_count": null,
      "metadata": {},
      "outputs": [
        {
          "name": "stdout",
          "output_type": "stream",
          "text": [
            "Best params:     {'model__C': 0.1, 'model__penalty': 'l1'}\n",
            "Train accuracy: 0.6408\n",
            "Test accuracy:  0.6798319327731093\n"
          ]
        },
        {
          "data": {
            "image/png": "[encoded data removed]",
            "text/plain": [
              "<Figure size 640x480 with 1 Axes>"
            ]
          },
          "metadata": {},
          "output_type": "display_data"
        }
      ],
      "source": [
        "def main():\n",
        "    seasons = [Season(\"2021\"), Season(\"2022\"), Season(\"2023\")]\n",
        "    all_games = []\n",
        "\n",
        "    # Fetch and build dataset for each season\n",
        "    for season in seasons:\n",
        "        team_stats = leaguedashteamstats.LeagueDashTeamStats(\n",
        "            season=season.formatted_season(), season_type_all_star=\"Regular Season\"\n",
        "        ).get_data_frames()[0]\n",
        "        df = prepare_dataset(season, team_stats, additional_columns=ADDL_STATS)\n",
        "        df = add_days_rest_column(season, df)\n",
        "        all_games.append(df)\n",
        "\n",
        "    # Combine seasons\n",
        "    data = pd.concat(all_games, ignore_index=True)\n",
        "\n",
        "    # Extract features and labels\n",
        "    features = generate_nn_labels(ADDL_STATS)\n",
        "    X = data[features]\n",
        "    y = data[\"WIN\"].to_numpy()\n",
        "\n",
        "    # Split into training (first 5000) and test\n",
        "    training_size = 5000\n",
        "    X_train, X_test = X.iloc[:training_size], X.iloc[training_size:]\n",
        "    y_train, y_test = y[:training_size], y[training_size:]\n",
        "\n",
        "    # Set up and run logistic regression pipeline with grid search\n",
        "    pipe = Pipeline([\n",
        "        (\"scaler\", StandardScaler()),\n",
        "        (\"model\", LogisticRegression(solver=\"liblinear\", max_iter=1000))\n",
        "    ])\n",
        "    param_grid = {\"model__C\":[0.1,1,10], \"model__penalty\":[\"l2\",\"l1\"]}\n",
        "    grid = GridSearchCV(pipe, param_grid, cv=5, scoring=\"accuracy\", n_jobs=-1)\n",
        "    grid.fit(X_train, y_train)\n",
        "\n",
        "    # Output results\n",
        "    print(\"Best params:\", grid.best_params_)\n",
        "    print(\"Train accuracy:\", grid.best_score_)\n",
        "    print(\"Test accuracy: \", grid.score(X_test, y_test))\n",
        "\n",
        "\n",
        "    # ROC Curve & AUC\n",
        "    y_proba = grid.predict_proba(X_test)[:,1]\n",
        "    fpr, tpr, _ = roc_curve(y_test, y_proba)\n",
        "    roc_auc = auc(fpr, tpr)\n",
        "    plt.figure()\n",
        "    plt.plot(fpr, tpr)\n",
        "    plt.plot([0,1], [0,1], linestyle='--')\n",
        "    plt.xlabel('False Positive Rate')\n",
        "    plt.ylabel('True Positive Rate')\n",
        "    plt.title(f'ROC Curve (AUC = {roc_auc:.2f})')\n",
        "    plt.show()\n",
        "\n",
        "if __name__ == \"__main__\":\n",
        "    main()"
      ]
    }
  ],
  "metadata": {
    "colab": {
      "provenance": []
    },
    "kernelspec": {
      "display_name": "base",
      "language": "python",
      "name": "python3"
    },
    "language_info": {
      "codemirror_mode": {
        "name": "ipython",
        "version": 3
      },
      "file_extension": ".py",
      "mimetype": "text/x-python",
      "name": "python",
      "nbconvert_exporter": "python",
      "pygments_lexer": "ipython3",
      "version": "3.12.7"
    }
  },
  "nbformat": 4,
  "nbformat_minor": 0
}
